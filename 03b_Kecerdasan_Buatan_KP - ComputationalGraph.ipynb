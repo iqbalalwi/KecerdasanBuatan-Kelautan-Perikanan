{
 "cells": [
  {
   "cell_type": "markdown",
   "metadata": {},
   "source": [
    "# Memahami Computational Graph\n",
    "![comp_graph](assets/compgraph.jpeg)\n",
    "\n",
    "Kita akan mensimulasikan model yang sama seperti di atas, namun dengan menggunakan pytorch\n",
    "\n",
    "Graf Komputasi (Computational Graph) adalah konsep penting dalam perhitungan numerik dan komputasi ilmiah, terutama dalam konteks deep learning dan perhitungan gradien (gradient computation). Ini adalah representasi visual dari bagaimana operasi-operasi matematika dalam suatu komputasi saling terkait dan bagaimana data mengalir melalui operasi-operasi tersebut. Graf komputasi digunakan untuk melacak perhitungan dan menghitung gradien dalam perhitungan berbasis gradien seperti yang digunakan dalam pelatihan model deep learning.\n",
    "\n",
    "Berikut adalah beberapa konsep kunci dalam graf komputasi:\n",
    "\n",
    "Node (Node): Node dalam graf komputasi mewakili operasi matematika atau fungsi yang diterapkan pada data. Ini dapat berupa operasi sederhana seperti penjumlahan atau perkalian, atau operasi yang lebih kompleks seperti konvolusi dalam jaringan saraf konvolusi (CNN). Node juga mewakili variabel yang menyimpan data dalam perhitungan.\n",
    "\n",
    "Edge (Tautan): Edge dalam graf komputasi menghubungkan node-node dan menunjukkan aliran data atau keluaran dari satu node ke node lain. Mereka mencerminkan hubungan antara node-node dalam perhitungan.\n",
    "\n",
    "Graf Arah (Directed Graph): Graf komputasi biasanya adalah graf berarah, artinya aliran data memiliki arah tertentu. Informasi mengalir dari node input ke node output melalui tautan.\n",
    "\n",
    "Node Input (Input Node): Node input adalah node yang mewakili data masukan atau parameter dalam perhitungan. Mereka adalah titik awal dari graf komputasi.\n",
    "\n",
    "Node Output (Output Node): Node output adalah node yang mewakili hasil akhir dari perhitungan. Hasil ini bisa menjadi hasil akhir yang dicari atau langkah intermediet dalam perhitungan.\n",
    "\n",
    "Backpropagation: Graf komputasi sangat penting dalam algoritma backpropagation yang digunakan dalam pelatihan model deep learning. Saat Anda ingin menghitung gradien fungsi tertentu terhadap parameter tertentu dalam model, graf komputasi membantu dalam melacak bagaimana gradien mengalir mundur dari node output ke node input melalui tautan.\n",
    "\n",
    "Contoh sederhana graf komputasi dalam konteks deep learning adalah jaringan saraf tiruan sederhana. Setiap node dalam graf tersebut mewakili operasi matematika (seperti perkalian matriks atau aktivasi) yang dilakukan pada data masukan, dan graf tersebut membantu dalam menghitung gradien fungsi kerugian terhadap parameter-model selama proses pelatihan.\n",
    "\n",
    "Dengan menggunakan graf komputasi, Anda dapat memahami dan menghitung secara sistematis bagaimana perhitungan dilakukan dalam model Anda dan menghitung gradien secara otomatis, yang merupakan bagian kunci dalam pelatihan model deep learning."
   ]
  },
  {
   "cell_type": "code",
   "execution_count": 3,
   "metadata": {
    "pycharm": {
     "name": "#%%\n"
    }
   },
   "outputs": [
    {
     "name": "stdout",
     "output_type": "stream",
     "text": [
      "Nilai C = tensor([6.], grad_fn=<MulBackward0>)\n",
      "Nilai E = tensor([24.], grad_fn=<MulBackward0>)\n",
      "Nilai Gradient c = tensor([4.])\n",
      "Nilai Gradient d = tensor([6.])\n",
      "Nilai Gradient a = tensor([12.])\n",
      "Nilai Gradient b = tensor([8.])\n"
     ]
    }
   ],
   "source": [
    "import torch\n",
    "\n",
    "a = torch.tensor([2.], requires_grad=True)\n",
    "b = torch.tensor([3.], requires_grad=True)\n",
    "d = torch.tensor([4.], requires_grad=True)\n",
    "c = a * b\n",
    "c.retain_grad()\n",
    "print(f'Nilai C = {c}')\n",
    "\n",
    "\n",
    "e = c * d\n",
    "print(f'Nilai E = {e}')\n",
    "\n",
    "e.backward()\n",
    "print(f'Nilai Gradient c = {c.grad}')\n",
    "print(f'Nilai Gradient d = {d.grad}')\n",
    "print(f'Nilai Gradient a = {a.grad}')\n",
    "print(f'Nilai Gradient b = {b.grad}')"
   ]
  },
  {
   "cell_type": "markdown",
   "metadata": {},
   "source": []
  },
  {
   "cell_type": "markdown",
   "metadata": {},
   "source": [
    "## Mari membahas maksud dari perhitungan yang dilakukan di atas\n",
    "# Gradient $c$\n",
    "- Nilai dari gradient $c$ terhadap $e$ adalah 4\n",
    "- Hal ini menunjukkan seberapa pengaruh dari nilai $c$ terhadap $e$ atau dalam persamaan dihitung sebagai $\\frac{\\partial e}{\\partial c}$\n",
    "- Kenaikan satu nilai dari $c$ akan mempengaruhi nilai $e$ dengan sebesar 4\n",
    "\n",
    "# Gradient $d$\n",
    "- Nilai dari gradient $d$ terhadap $e$ adalah 6\n",
    "- Hal ini menunjukkan seberapa pengaruh dari nilai $d$ terhadap $e$ atau dalam persamaan dihitung sebagai $\\frac{\\partial e}{\\partial d}$\n",
    "- Kenaikan satu nilai dari $d$ akan mempengaruhi nilai $e$ dengan sebesar 6\n",
    "\n",
    "# Gradient $a$\n",
    "- Nilai dari gradient $a$ terhadap $e$ adalah 12\n",
    "- Hal ini menunjukkan seberapa pengaruh dari nilai $a$ terhadap $e$ atau dalam persamaan dihitung sebagai $\\frac{\\partial e}{\\partial a} = \\frac{\\partial e}{\\partial c} . \\frac{\\partial c}{\\partial a}$\n",
    "- Kenaikan satu nilai dari $a$ akan mempengaruhi nilai $e$ dengan sebesar 12\n",
    "\n",
    "# Gradient $b$\n",
    "- Nilai dari gradient $b$ terhadap $e$ adalah 8\n",
    "- Hal ini menunjukkan seberapa pengaruh dari nilai $b$ terhadap $e$ atau dalam persamaan dihitung sebagai $\\frac{\\partial e}{\\partial b} = \\frac{\\partial e}{\\partial c} . \\frac{\\partial c}{\\partial b}$\n",
    "\n",
    "Mari lihat contoh lainnya"
   ]
  },
  {
   "cell_type": "code",
   "execution_count": 4,
   "metadata": {
    "pycharm": {
     "name": "#%%\n"
    }
   },
   "outputs": [
    {
     "name": "stdout",
     "output_type": "stream",
     "text": [
      "Nilai x = tensor([5.], grad_fn=<AddBackward0>)\n",
      "Nilai y = tensor([20.], grad_fn=<MulBackward0>)\n",
      "Nilai z = tensor([100.], grad_fn=<MulBackward0>)\n",
      "Nilai Gradient a = tensor([20.])\n",
      "Nilai Gradient b = tensor([20.])\n",
      "Nilai Gradient c = tensor([25.])\n",
      "Nilai Gradient d = tensor([20.])\n"
     ]
    }
   ],
   "source": [
    "a = torch.tensor([2.], requires_grad=True)\n",
    "b = torch.tensor([3.], requires_grad=True)\n",
    "c = torch.tensor([4.], requires_grad=True)\n",
    "d = torch.tensor([5.], requires_grad=True)\n",
    "\n",
    "x = a + b\n",
    "y = c * d\n",
    "z = x * y\n",
    "x.retain_grad()\n",
    "y.retain_grad()\n",
    "z.retain_grad()\n",
    "\n",
    "print(f'Nilai x = {x}')\n",
    "print(f'Nilai y = {y}')\n",
    "print(f'Nilai z = {z}')\n",
    "\n",
    "z.backward()\n",
    "print(f'Nilai Gradient a = {a.grad}')\n",
    "print(f'Nilai Gradient b = {b.grad}')\n",
    "print(f'Nilai Gradient c = {c.grad}')\n",
    "print(f'Nilai Gradient d = {d.grad}')"
   ]
  },
  {
   "cell_type": "markdown",
   "metadata": {},
   "source": [
    "![comp_graph2](assets/compgraph2.jpeg)\n",
    "\n",
    "**Mengapa nilai gradient a terhadap z itu 20**\n",
    "Anda dapat mengujinya demikian:\n",
    "- $a$ bernilai 2\n",
    "- Kenaikan satu nilai dari $a$ akan mempengaruhi nilai $z$ dengan sebesar 20\n",
    "- Misalnya $a$ kita ubah menjadi 3, maka nilai $z$ akan bertambah sebanyak 20 menjadi 120\n",
    "\n",
    "Demikian juga untuk bagian-bagian lainnya"
   ]
  }
 ],
 "metadata": {
  "kernelspec": {
   "display_name": "Python 3",
   "language": "python",
   "name": "python3"
  },
  "language_info": {
   "codemirror_mode": {
    "name": "ipython",
    "version": 3
   },
   "file_extension": ".py",
   "mimetype": "text/x-python",
   "name": "python",
   "nbconvert_exporter": "python",
   "pygments_lexer": "ipython3",
   "version": "3.9.12"
  }
 },
 "nbformat": 4,
 "nbformat_minor": 0
}
