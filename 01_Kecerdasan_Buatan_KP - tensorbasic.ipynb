{
 "cells": [
  {
   "cell_type": "markdown",
   "metadata": {},
   "source": [
    "# Dasar-dasar Operasi Tensor\n",
    "## Mengimpor library pytorch"
   ]
  },
  {
   "cell_type": "markdown",
   "metadata": {},
   "source": [
    "Tensor adalah struktur data multidimensional yang digunakan dalam komputasi numerik dan pemrosesan data, terutama dalam machine learning, deep learning, dan pengolahan citra. Tensor adalah generalisasi dari skalar (0 dimensi), vektor (1 dimensi), matriks (2 dimensi), dan dapat memiliki lebih banyak dimensi. Dalam konteks machine learning, tensor adalah bentuk dasar untuk menyimpan dan mengoperasikan data.\n",
    "\n",
    "Beberapa karakteristik tensor adalah sebagai berikut:\n",
    "\n",
    "1. **Dimensi**: Tensor dapat memiliki nol dimensi (skalar), satu dimensi (vektor), dua dimensi (matriks), atau lebih dari dua dimensi (tensor berderajat tinggi). Sebagai contoh, tensor 3D adalah tensor dengan tiga dimensi.\n",
    "\n",
    "2. **Elemen**: Setiap elemen di dalam tensor dapat memiliki nilai numerik. Di dalam tensor, elemen-elemen ini diindeks oleh indeks-indeks yang sesuai dengan dimensi tensor tersebut.\n",
    "\n",
    "3. **Tipe Data**: Tensor dapat memiliki tipe data yang berbeda, seperti bilangan bulat (integer), bilangan riil (floating-point), atau tipe data lainnya, tergantung pada aplikasi dan kebutuhan.\n",
    "\n",
    "4. **Operasi**: Anda dapat melakukan berbagai operasi matematis pada tensor, seperti penjumlahan, perkalian, pemotongan, atau perhitungan gradien.\n",
    "\n",
    "5. **Contoh**: Beberapa contoh tensor dalam konteks machine learning adalah:\n",
    "   - Skalar: Tensor 0D (contoh: angka tunggal).\n",
    "   - Vektor: Tensor 1D (contoh: vektor fitur dalam data).\n",
    "   - Matriks: Tensor 2D (contoh: matriks bobot dalam jaringan neural).\n",
    "   - Tensor berderajat tinggi: Tensor dengan tiga atau lebih dimensi (contoh: citra berwarna dengan tiga dimensi: tinggi, lebar, dan warna).\n",
    "\n",
    "Dalam praktiknya, kerangka kerja deep learning seperti TensorFlow, PyTorch, atau Keras memiliki dukungan built-in untuk manipulasi tensor. Ini memungkinkan pengembang dan peneliti untuk melakukan operasi tensor dengan mudah, yang sangat penting dalam pelatihan model deep learning dan analisis data. Tensors memainkan peran sentral dalam perhitungan yang melibatkan jumlah besar data dan komputasi paralel yang diperlukan dalam machine learning modern."
   ]
  },
  {
   "cell_type": "code",
   "execution_count": null,
   "metadata": {},
   "outputs": [],
   "source": [
    "!pip3 install https://download.pytorch.org/whl/cu80/torch-1.0.0-cp36-cp36m-linux_x86_64.whl\n",
    "!pip3 install torchvision"
   ]
  },
  {
   "cell_type": "code",
   "execution_count": 2,
   "metadata": {
    "pycharm": {
     "name": "#%%\n"
    }
   },
   "outputs": [],
   "source": [
    "import torch"
   ]
  },
  {
   "cell_type": "markdown",
   "metadata": {},
   "source": [
    "## Membuat variabel baru bertipe tensor"
   ]
  },
  {
   "cell_type": "code",
   "execution_count": 3,
   "metadata": {
    "pycharm": {
     "name": "#%%\n"
    }
   },
   "outputs": [
    {
     "name": "stdout",
     "output_type": "stream",
     "text": [
      "tensor([[-3.5888e+15,  4.5873e-41, -3.6003e+15,  4.5873e-41],\n",
      "        [-3.6065e+15,  4.5873e-41, -3.6005e+15,  4.5873e-41]]) tensor([[[0.6324, 0.9448, 0.5101, 0.3945],\n",
      "         [0.3912, 0.9594, 0.4523, 0.2351],\n",
      "         [0.6781, 0.8439, 0.9636, 0.6499]],\n",
      "\n",
      "        [[0.0505, 0.2560, 0.4796, 0.0750],\n",
      "         [0.4014, 0.3069, 0.2683, 0.4965],\n",
      "         [0.6214, 0.7721, 0.5639, 0.2169]]]) tensor([[[1., 1., 1., 1.],\n",
      "         [1., 1., 1., 1.],\n",
      "         [1., 1., 1., 1.]],\n",
      "\n",
      "        [[1., 1., 1., 1.],\n",
      "         [1., 1., 1., 1.],\n",
      "         [1., 1., 1., 1.]]]) tensor([[0., 0., 0., 0., 0.],\n",
      "        [0., 0., 0., 0., 0.],\n",
      "        [0., 0., 0., 0., 0.],\n",
      "        [0., 0., 0., 0., 0.]]) tensor([ 0.,  1.,  2.,  3.,  4.,  5.,  6.,  7.,  8.,  9., 10., 11.]) tensor([ 0.,  2.,  4.,  6.,  8., 10.])\n"
     ]
    }
   ],
   "source": [
    "# membuat variabel kosong dengan ukuran 2,4\n",
    "emptyvar = torch.empty(2, 4)\n",
    "# membuat variabel random dengan ukuran 2,3,4\n",
    "randomvar = torch.rand(2, 3, 4)\n",
    "# membuat variabel tensor dengan nilai 1 berukuran 2,3,4\n",
    "onesvar = torch.ones(2, 3, 4)\n",
    "# membuat variabel tensor dengan nilai 0 berukuran 4,5\n",
    "zerosvar = torch.zeros(4, 5)\n",
    "# membuat variabel tensor yang berurutan sejumlah n atau dari x hingga y (bahkan dengan step atau jarak tertentu)\n",
    "rentang = torch.arange(12, dtype=torch.float32)\n",
    "rentang2 = torch.arange(0, 12, 2, dtype=torch.float32)\n",
    "\n",
    "# silahkan coba cetak satu-per-satu dari variabel diatas\n",
    "print(emptyvar, randomvar, onesvar, zerosvar, rentang, rentang2)\n"
   ]
  },
  {
   "cell_type": "markdown",
   "metadata": {},
   "source": [
    "## Membuat variabel tensor dengan tipe data spesifik"
   ]
  },
  {
   "cell_type": "code",
   "execution_count": 4,
   "metadata": {
    "pycharm": {
     "name": "#%%\n"
    }
   },
   "outputs": [
    {
     "name": "stdout",
     "output_type": "stream",
     "text": [
      "tensor([[1, 1],\n",
      "        [1, 1]], dtype=torch.int32) tensor([[0.8645, 0.7013],\n",
      "        [0.7046, 0.5958]])\n",
      "torch.int32 torch.float32\n",
      "torch.Size([2, 2]) torch.Size([2, 2])\n"
     ]
    }
   ],
   "source": [
    "# membuat tensor dengan tipe data integer\n",
    "intvar = torch.ones(2, 2, dtype=torch.int)\n",
    "# membuat tensor dengan tipe data float\n",
    "floatvar = torch.rand(2, 2, dtype=torch.float)\n",
    "\n",
    "print(intvar, floatvar)\n",
    "print(intvar.dtype, floatvar.dtype)\n",
    "print(intvar.size(), floatvar.size())"
   ]
  },
  {
   "cell_type": "markdown",
   "metadata": {},
   "source": [
    "## Operasi Aritmatika Dasar pada Tensor"
   ]
  },
  {
   "cell_type": "code",
   "execution_count": 5,
   "metadata": {},
   "outputs": [
    {
     "name": "stdout",
     "output_type": "stream",
     "text": [
      "tensor([[ 2,  4,  6],\n",
      "        [ 8, 10, 12]])\n"
     ]
    }
   ],
   "source": [
    "# mengisi tensor dengan nilai\n",
    "var_a = torch.tensor([[1, 2, 3], [4, 5, 6]])\n",
    "# operasi aritmatika pada tensor\n",
    "var_b = torch.tensor([[1, 2, 3], [4, 5, 6]])\n",
    "var_c = var_a + var_b\n",
    "print(var_c)"
   ]
  },
  {
   "cell_type": "markdown",
   "metadata": {},
   "source": [
    "## Cara Lain Operasi Penjumlahan"
   ]
  },
  {
   "cell_type": "code",
   "execution_count": 6,
   "metadata": {
    "pycharm": {
     "name": "#%%\n"
    }
   },
   "outputs": [
    {
     "name": "stdout",
     "output_type": "stream",
     "text": [
      "tensor([[ 2,  4,  6],\n",
      "        [ 8, 10, 12]])\n",
      "tensor([[ 2,  4,  6],\n",
      "        [ 8, 10, 12]])\n"
     ]
    }
   ],
   "source": [
    "# cara lain\n",
    "var_c = torch.add(var_a, var_b) # hasil penjumlahan var_a dan var_b disimpan di objek BARU dengan nama variabel var_c\n",
    "print(var_c)\n",
    "\n",
    "# cara lain pada variabel yang sama (in-place operation)\n",
    "var_a.add_(var_b)\n",
    "print(var_a)\n",
    "\n",
    "# --- lebih lanjut mengenai in-place opeartion dalam pyTorch dalam diskusi : https://discuss.pytorch.org/t/what-is-in-place-operation/16244"
   ]
  },
  {
   "cell_type": "markdown",
   "metadata": {
    "pycharm": {
     "name": "#%% md\n"
    }
   },
   "source": [
    "## Operasi Aritmatika lainnya"
   ]
  },
  {
   "cell_type": "code",
   "execution_count": 7,
   "metadata": {
    "pycharm": {
     "name": "#%%\n"
    }
   },
   "outputs": [],
   "source": [
    "x = torch.rand(2, 2)\n",
    "y = torch.rand(2, 2)\n",
    "\n",
    "# --- dot-product dalam pyToch \n",
    "z_kali = x * y\n",
    "z_kali_2 = torch.mul(x, y)\n",
    "# perhatikan bedanya dengan torch.mm(x, y) <- ini perkalian matriks dan \n",
    "# torch.matmul(x, y) <- ini perkalian matriks juga tapi perintah ini support broadcasting \n",
    "# (https://pytorch.org/docs/stable/notes/broadcasting.html#broadcasting-semantics)\n",
    "# ---\n",
    "\n",
    "z_bagi = x / y\n",
    "z_bagi_2 = torch.div(x, y)\n",
    "\n",
    "z_pengurangan = x - y\n",
    "z_pengurangan_2 = torch.sub(x, y)\n",
    "\n",
    "z_pangkat = x ** y\n",
    "z_pangkat_2 = torch.pow(x, y)"
   ]
  },
  {
   "cell_type": "markdown",
   "metadata": {},
   "source": [
    "## Manipulasi Matriks"
   ]
  },
  {
   "cell_type": "code",
   "execution_count": 8,
   "metadata": {
    "pycharm": {
     "name": "#%%\n"
    }
   },
   "outputs": [
    {
     "name": "stdout",
     "output_type": "stream",
     "text": [
      "tensor([[0.3410, 0.5389, 0.4280],\n",
      "        [0.7656, 0.9371, 0.9629],\n",
      "        [0.6862, 0.4582, 0.7153],\n",
      "        [0.4435, 0.6778, 0.6659],\n",
      "        [0.2020, 0.2017, 0.0818]])\n",
      "tensor([0.3410, 0.7656, 0.6862, 0.4435, 0.2020])\n",
      "tensor([0.3410, 0.5389, 0.4280])\n",
      "tensor(0.9371)\n",
      "0.9371301531791687\n"
     ]
    }
   ],
   "source": [
    "x = torch.rand(5, 3)\n",
    "print(x)\n",
    "print(x[:, 0])  # mencetak hanya kolom pertama\n",
    "print(x[0, :])  # mencetak hanya baris pertama\n",
    "print(x[1, 1])  # mencetak nilai pada baris ke-1 dan kolom ke-1\n",
    "print(x[1, 1].item())  # mencetak hanya nilai (tanpa identitas jenis tensor)"
   ]
  },
  {
   "cell_type": "markdown",
   "metadata": {},
   "source": [
    "## Reshaping Matriks\n",
    "Mengubah matriks 2 dimensi menjadi array 1 dimensi"
   ]
  },
  {
   "cell_type": "code",
   "execution_count": 9,
   "metadata": {
    "pycharm": {
     "name": "#%%\n"
    }
   },
   "outputs": [
    {
     "name": "stdout",
     "output_type": "stream",
     "text": [
      "tensor([[0.8567, 0.3160, 0.0040, 0.0812],\n",
      "        [0.8044, 0.5758, 0.3986, 0.1689],\n",
      "        [0.3867, 0.6969, 0.3465, 0.9028],\n",
      "        [0.5293, 0.3452, 0.6293, 0.9383]])\n",
      "torch.Size([4, 4])\n",
      "tensor([0.8567, 0.3160, 0.0040, 0.0812, 0.8044, 0.5758, 0.3986, 0.1689, 0.3867,\n",
      "        0.6969, 0.3465, 0.9028, 0.5293, 0.3452, 0.6293, 0.9383])\n",
      "torch.Size([16])\n"
     ]
    }
   ],
   "source": [
    "x = torch.rand(4, 4)\n",
    "print(x)\n",
    "print(x.shape)\n",
    "y = x.view(16)\n",
    "print(y)\n",
    "print(y.shape)"
   ]
  },
  {
   "cell_type": "markdown",
   "metadata": {},
   "source": [
    "Cara lain untuk mentransformasikan matriks"
   ]
  },
  {
   "cell_type": "code",
   "execution_count": 10,
   "metadata": {
    "pycharm": {
     "name": "#%%\n"
    }
   },
   "outputs": [
    {
     "name": "stdout",
     "output_type": "stream",
     "text": [
      "tensor([[0.8567, 0.3160, 0.0040, 0.0812, 0.8044, 0.5758, 0.3986, 0.1689],\n",
      "        [0.3867, 0.6969, 0.3465, 0.9028, 0.5293, 0.3452, 0.6293, 0.9383]])\n",
      "torch.Size([2, 8])\n"
     ]
    }
   ],
   "source": [
    "y = x.view(-1, 8) \n",
    "print(y)\n",
    "print(y.shape)\n",
    "# --- nilai -1 pada fungsi `view`` menandakan dimensi pertama otomatis mengikuti bentuk tensor awal, \n",
    "# dalam hal ini karena data ada 4*4 = 16 elemen, maka dimensi pertama menjadi 16/8 = 2"
   ]
  },
  {
   "cell_type": "code",
   "execution_count": 11,
   "metadata": {},
   "outputs": [
    {
     "name": "stdout",
     "output_type": "stream",
     "text": [
      "tensor([[[0.2117, 0.4284, 0.0303, 0.3762, 0.2135],\n",
      "         [0.5930, 0.5386, 0.3158, 0.3734, 0.5564],\n",
      "         [0.6518, 0.9398, 0.8103, 0.4788, 0.6255],\n",
      "         [0.6314, 0.3160, 0.4396, 0.6057, 0.1325]],\n",
      "\n",
      "        [[0.2477, 0.7658, 0.8143, 0.9298, 0.5090],\n",
      "         [0.2781, 0.4150, 0.1292, 0.0389, 0.0305],\n",
      "         [0.6713, 0.6764, 0.2910, 0.0893, 0.4494],\n",
      "         [0.2838, 0.7012, 0.4809, 0.5496, 0.0063]],\n",
      "\n",
      "        [[0.1398, 0.9766, 0.4067, 0.7719, 0.9682],\n",
      "         [0.7420, 0.2588, 0.3061, 0.4877, 0.2343],\n",
      "         [0.6502, 0.0071, 0.0340, 0.4807, 0.4223],\n",
      "         [0.7337, 0.0394, 0.5334, 0.4179, 0.6388]]])\n",
      "tensor([[0.2117, 0.4284, 0.0303, 0.3762, 0.2135],\n",
      "        [0.5930, 0.5386, 0.3158, 0.3734, 0.5564],\n",
      "        [0.6518, 0.9398, 0.8103, 0.4788, 0.6255],\n",
      "        [0.6314, 0.3160, 0.4396, 0.6057, 0.1325],\n",
      "        [0.2477, 0.7658, 0.8143, 0.9298, 0.5090],\n",
      "        [0.2781, 0.4150, 0.1292, 0.0389, 0.0305],\n",
      "        [0.6713, 0.6764, 0.2910, 0.0893, 0.4494],\n",
      "        [0.2838, 0.7012, 0.4809, 0.5496, 0.0063],\n",
      "        [0.1398, 0.9766, 0.4067, 0.7719, 0.9682],\n",
      "        [0.7420, 0.2588, 0.3061, 0.4877, 0.2343],\n",
      "        [0.6502, 0.0071, 0.0340, 0.4807, 0.4223],\n",
      "        [0.7337, 0.0394, 0.5334, 0.4179, 0.6388]])\n"
     ]
    }
   ],
   "source": [
    "# misalnya kita memiliki sebuah matriks berukuran (3,4,5)\n",
    "x = torch.rand(3, 4, 5)\n",
    "print(x)\n",
    "\n",
    "# maka kita akan coba reshape matriks tersebut menjadi (12,5)\n",
    "x_new = x.reshape(12, -1)\n",
    "'''\n",
    "artinya: jadikan 2 baris dengan mengurangi 1 dimensi\n",
    "juga dapat dilakukan dengan menggunakan\n",
    "x_new = x.view(12, -1)\n",
    "'''\n",
    "print(x_new)"
   ]
  },
  {
   "cell_type": "markdown",
   "metadata": {},
   "source": [
    "Sebaliknya, kita juga dapat membuat matriks dari array 1 dimensi"
   ]
  },
  {
   "cell_type": "code",
   "execution_count": 12,
   "metadata": {},
   "outputs": [
    {
     "name": "stdout",
     "output_type": "stream",
     "text": [
      "tensor([ 6.,  9., 12., 15., 18., 21., 24., 27., 30., 33., 36., 39., 42., 45.,\n",
      "        48., 51., 54., 57., 60., 63., 66., 69., 72., 75., 78., 81., 84., 87.,\n",
      "        90., 93., 96., 99.])\n",
      "torch.Size([32])\n",
      "tensor([[ 6.,  9., 12., 15., 18., 21., 24., 27.],\n",
      "        [30., 33., 36., 39., 42., 45., 48., 51.],\n",
      "        [54., 57., 60., 63., 66., 69., 72., 75.],\n",
      "        [78., 81., 84., 87., 90., 93., 96., 99.]])\n"
     ]
    }
   ],
   "source": [
    "x = torch.arange(6, 100, 3, dtype=torch.float32)\n",
    "print(x)\n",
    "print(x.size())\n",
    "\n",
    "x_new = x.reshape(4,8)\n",
    "print(x_new)\n",
    "\n",
    "# perlu diingat bahwa target reshape harus sama dengan jumlah elemen yang ada pada tensor awal"
   ]
  },
  {
   "cell_type": "markdown",
   "metadata": {},
   "source": [
    "## Konversi dari Numpy ke Tensor"
   ]
  },
  {
   "cell_type": "code",
   "execution_count": 13,
   "metadata": {
    "pycharm": {
     "name": "#%%\n"
    }
   },
   "outputs": [
    {
     "name": "stdout",
     "output_type": "stream",
     "text": [
      "tensor([1., 1., 1., 1., 1.])\n",
      "[1. 1. 1. 1. 1.]\n",
      "<class 'numpy.ndarray'>\n"
     ]
    }
   ],
   "source": [
    "import numpy as np\n",
    "\n",
    "a = torch.ones(5)\n",
    "print(a)\n",
    "# memberikan referensi ke variabel b, \n",
    "# gunakan a.numpy().copy() untuk membuat data baru dengan nilai yang sama dengan variabel a\n",
    "b = a.numpy() \n",
    "print(b)\n",
    "print(type(b))"
   ]
  },
  {
   "cell_type": "markdown",
   "metadata": {},
   "source": [
    "Perlu diperhatikan bahwa mengkonversi dari numpy ke tensor tidak membuat kopi, melainkan mengubah referensi dari numpy ke tensor.\n",
    "Nilai b akan berubah ketika kita melakukan modifikasi terhadap nilai a."
   ]
  },
  {
   "cell_type": "code",
   "execution_count": 14,
   "metadata": {
    "pycharm": {
     "name": "#%%\n"
    }
   },
   "outputs": [
    {
     "name": "stdout",
     "output_type": "stream",
     "text": [
      "tensor([2., 2., 2., 2., 2.])\n",
      "[2. 2. 2. 2. 2.]\n"
     ]
    }
   ],
   "source": [
    "a.add_(1)\n",
    "print(a)\n",
    "print(b)"
   ]
  },
  {
   "cell_type": "code",
   "execution_count": 15,
   "metadata": {
    "pycharm": {
     "name": "#%%\n"
    }
   },
   "outputs": [
    {
     "name": "stdout",
     "output_type": "stream",
     "text": [
      "[1. 1. 1. 1. 1.]\n",
      "tensor([1., 1., 1., 1., 1.], dtype=torch.float64)\n",
      "[2. 2. 2. 2. 2.]\n",
      "tensor([1., 1., 1., 1., 1.], dtype=torch.float64)\n",
      "<class 'torch.Tensor'>\n"
     ]
    }
   ],
   "source": [
    "a = np.ones(5)\n",
    "print(a)\n",
    "b = torch.from_numpy(a)\n",
    "print(b)\n",
    "\n",
    "a = a + 1\n",
    "print(a)\n",
    "print(b)\n",
    "print(type(b))"
   ]
  },
  {
   "cell_type": "markdown",
   "metadata": {},
   "source": [
    "# Operasi Menggunakan GPU"
   ]
  },
  {
   "cell_type": "code",
   "execution_count": 16,
   "metadata": {
    "pycharm": {
     "name": "#%%\n"
    }
   },
   "outputs": [],
   "source": [
    "if torch.cuda.is_available():\n",
    "    # Mengatur nama device sebagai variabel\n",
    "    device = torch.device(\"cuda\")\n",
    "    # Membuat variabel tensor yang menggunakan device\n",
    "    x = torch.ones(5, device=device)\n",
    "\n",
    "    # Memindahkan variable yang sudah dibuat sebelumnya ke device\n",
    "    y = torch.ones(5)\n",
    "    y = y.to(device)\n",
    "\n",
    "    # Memindahkan kembali ke CPU\n",
    "    x = x.to(\"cpu\")"
   ]
  },
  {
   "cell_type": "markdown",
   "metadata": {
    "pycharm": {
     "name": "#%% md\n"
    }
   },
   "source": [
    "# Mengaktifkan Variabel dengan Autograd"
   ]
  },
  {
   "cell_type": "code",
   "execution_count": 17,
   "metadata": {
    "pycharm": {
     "name": "#%%\n"
    }
   },
   "outputs": [
    {
     "name": "stdout",
     "output_type": "stream",
     "text": [
      "tensor([[1., 1.],\n",
      "        [1., 1.]], requires_grad=True)\n"
     ]
    }
   ],
   "source": [
    "x = torch.ones(2, 2, requires_grad=True) # memungkinkan pytorch untuk menghitung gradient secara otomatis\n",
    "print(x)"
   ]
  }
 ],
 "metadata": {
  "interpreter": {
   "hash": "813f3f0350554659212b7fa471cd1b9fb007f626271d2ac18998c1fae68f1f9a"
  },
  "kernelspec": {
   "display_name": "Python 3.8.11 64-bit ('py38': conda)",
   "language": "python",
   "name": "python3"
  },
  "language_info": {
   "codemirror_mode": {
    "name": "ipython",
    "version": 3
   },
   "file_extension": ".py",
   "mimetype": "text/x-python",
   "name": "python",
   "nbconvert_exporter": "python",
   "pygments_lexer": "ipython3",
   "version": "3.9.12"
  }
 },
 "nbformat": 4,
 "nbformat_minor": 1
}
