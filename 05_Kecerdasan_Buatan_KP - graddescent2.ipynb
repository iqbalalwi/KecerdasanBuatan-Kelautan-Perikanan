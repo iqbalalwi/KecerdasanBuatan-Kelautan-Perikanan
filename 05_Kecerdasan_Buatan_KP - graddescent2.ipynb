{
 "cells": [
  {
   "cell_type": "markdown",
   "metadata": {},
   "source": [
    "# Gradient Descent"
   ]
  },
  {
   "cell_type": "code",
   "execution_count": 1,
   "metadata": {},
   "outputs": [],
   "source": [
    "import torch"
   ]
  },
  {
   "cell_type": "markdown",
   "metadata": {},
   "source": [
    "### Inisiasi variabel\n",
    "- Pada program ini, variabel diinisiasi dengan torch.tensor"
   ]
  },
  {
   "cell_type": "code",
   "execution_count": 2,
   "metadata": {
    "pycharm": {
     "name": "#%%\n"
    }
   },
   "outputs": [],
   "source": [
    "X = torch.tensor([1, 2, 3, 4], dtype=torch.float32)\n",
    "Y = torch.tensor([2, 4, 6, 8], dtype=torch.float32)\n",
    "# aktifkan grad pada weight\n",
    "w = torch.tensor(0.0, dtype=torch.float32, requires_grad=True)"
   ]
  },
  {
   "cell_type": "code",
   "execution_count": 3,
   "metadata": {
    "pycharm": {
     "name": "#%%\n"
    }
   },
   "outputs": [],
   "source": [
    "# prediksi model\n",
    "def forward(x):\n",
    "    return w * x\n",
    "\n",
    "# loss function (dengan MSE)\n",
    "def loss(y, y_pred):\n",
    "    return ((y_pred - y) ** 2).mean()"
   ]
  },
  {
   "cell_type": "markdown",
   "metadata": {},
   "source": []
  },
  {
   "cell_type": "code",
   "execution_count": 6,
   "metadata": {
    "pycharm": {
     "name": "#%%\n"
    }
   },
   "outputs": [
    {
     "name": "stdout",
     "output_type": "stream",
     "text": [
      "Prediksi sebelum training: f(5) = 9.997\n",
      "Epoch 1: w = 1.999, loss = 0.000\n",
      "Epoch 2: w = 2.000, loss = 0.000\n",
      "Epoch 3: w = 2.000, loss = 0.000\n",
      "Epoch 4: w = 2.000, loss = 0.000\n",
      "Epoch 5: w = 2.000, loss = 0.000\n",
      "Epoch 6: w = 2.000, loss = 0.000\n",
      "Epoch 7: w = 2.000, loss = 0.000\n",
      "Epoch 8: w = 2.000, loss = 0.000\n",
      "Epoch 9: w = 2.000, loss = 0.000\n",
      "Epoch 10: w = 2.000, loss = 0.000\n",
      "Prediksi setelah training: f(5) = 9.999\n"
     ]
    }
   ],
   "source": [
    "# Mengecek nilai prediksi awal\n",
    "print(f'Prediksi sebelum training: f(5) = {forward(5):.3f}')\n",
    "\n",
    "learning_rate = 0.01\n",
    "n_iters = 10\n",
    "\n",
    "for epoch in range(n_iters):\n",
    "    # forward pass\n",
    "    y_pred = forward(X)\n",
    "    # backward pass\n",
    "    l = loss(Y, y_pred)\n",
    "\n",
    "    # menghitung gradient dengan backward pass : dl/dw\n",
    "    l.backward()\n",
    "\n",
    "    # update nilai weight. Namun ingat, nilai weight tidak diupdate\n",
    "    with torch.no_grad():\n",
    "        w -= learning_rate * w.grad\n",
    "\n",
    "    # menghapus nilai gradient\n",
    "    w.grad.zero_()\n",
    "\n",
    "    print(f'Epoch {epoch + 1}: w = {w:.3f}, loss = {l:.3f}')\n",
    "\n",
    "# prediksi setelah training\n",
    "print(f'Prediksi setelah training: f(5) = {forward(5):.3f}')"
   ]
  }
 ],
 "metadata": {
  "kernelspec": {
   "display_name": "Python 3",
   "language": "python",
   "name": "python3"
  },
  "language_info": {
   "codemirror_mode": {
    "name": "ipython",
    "version": 3
   },
   "file_extension": ".py",
   "mimetype": "text/x-python",
   "name": "python",
   "nbconvert_exporter": "python",
   "pygments_lexer": "ipython3",
   "version": "3.9.12"
  }
 },
 "nbformat": 4,
 "nbformat_minor": 0
}
