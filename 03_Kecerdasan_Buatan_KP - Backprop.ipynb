{
 "cells": [
  {
   "cell_type": "markdown",
   "metadata": {},
   "source": [
    "# Backprogation\n",
    "### Penjelasan\n",
    "Secara umum, terdapat tiga proses yang dibahas pada kode ini:\n",
    "- Forward pass: Menghitung loss\n",
    "- Menghitung local gradient\n",
    "- Backward pass: Menghitung dLoss / dWeight menggunakan chain rule\n",
    "\n",
    "**Perhatikan perhitungan graf komputasional di bawah ini**\n",
    "\n",
    "![Graf Komputasional](assets/forwardbackwardpass.jpeg)\n",
    "\n",
    "### Pertama, kita lakukan inisiasi variabel"
   ]
  },
  {
   "cell_type": "markdown",
   "metadata": {},
   "source": [
    "Kita mendefinisikan 3 variabel:\n",
    "\n",
    "- $x$ merupakan skalar bernilai `1.0`\n",
    "- $y$ merupakan skalar bernilai `2.0`\n",
    "- $w$ merupakan skalar bernilai `1.0`, kita akan mencari gradien berdasarkan variabel ini (`requires_grad=True`)"
   ]
  },
  {
   "cell_type": "code",
   "execution_count": null,
   "metadata": {},
   "outputs": [],
   "source": [
    "!pip3 install https://download.pytorch.org/whl/cu80/torch-1.0.0-cp36-cp36m-linux_x86_64.whl\n",
    "!pip3 install torchvision"
   ]
  },
  {
   "cell_type": "code",
   "execution_count": 1,
   "metadata": {},
   "outputs": [],
   "source": [
    "# import library yang digunakan\n",
    "import torch\n",
    "\n",
    "x = torch.tensor(1.0)\n",
    "y = torch.tensor(2.0)\n",
    "w = torch.tensor(1.0, requires_grad=True)"
   ]
  },
  {
   "cell_type": "markdown",
   "metadata": {},
   "source": [
    "### Forward Pass"
   ]
  },
  {
   "cell_type": "markdown",
   "metadata": {},
   "source": [
    "Forward pass secara matematis (untuk kasus ini):\n",
    "\n",
    "- $\\hat{y} = w*x$\n",
    "- $\\text{loss} = (\\hat{y} - y)^2$, juga setara dengan $\\text{loss} = (w*x - y)^2$"
   ]
  },
  {
   "cell_type": "code",
   "execution_count": 2,
   "metadata": {
    "pycharm": {
     "name": "#%%\n"
    }
   },
   "outputs": [
    {
     "name": "stdout",
     "output_type": "stream",
     "text": [
      "tensor(1., grad_fn=<PowBackward0>)\n"
     ]
    }
   ],
   "source": [
    "y_hat = w * x\n",
    "loss = (y_hat - y) ** 2\n",
    "print(loss)"
   ]
  },
  {
   "cell_type": "markdown",
   "metadata": {},
   "source": [
    "### Backward Pass"
   ]
  },
  {
   "cell_type": "markdown",
   "metadata": {},
   "source": [
    "Persamaan Backward pass untuk fungsi $\\text{loss}$ menjadi:\n",
    "\n",
    "- $\\frac{\\partial \\text{loss}}{\\partial w} = 2 * x * (w * x - y)$\n",
    "\n",
    "Berdasarkan assignment variabel pada blok sebelumnya:\n",
    "\n",
    "- $x$ = `1.0`\n",
    "- $y$ = `2.0`\n",
    "- $w$ = `1.0`\n",
    "\n",
    "Subtitusi nilai ini kedalam persamaan backward pass: $2 * 1 * (1 * 1 - 2) = -2$\n",
    "Nilai `-2` ini merupakan gradien dari `w`. Sama dengan perhitungan yang dilakukan pada graf komputasi yang dipaparkan dalam gambar di awal notebook."
   ]
  },
  {
   "cell_type": "code",
   "execution_count": 3,
   "metadata": {
    "pycharm": {
     "name": "#%%\n"
    }
   },
   "outputs": [
    {
     "name": "stdout",
     "output_type": "stream",
     "text": [
      "tensor(-2.)\n"
     ]
    }
   ],
   "source": [
    "# backward pass fungsi yang didefinisikan pada variabel `loss`\n",
    "loss.backward()\n",
    "print(w.grad)"
   ]
  }
 ],
 "metadata": {
  "kernelspec": {
   "display_name": "Python 3",
   "language": "python",
   "name": "python3"
  },
  "language_info": {
   "codemirror_mode": {
    "name": "ipython",
    "version": 3
   },
   "file_extension": ".py",
   "mimetype": "text/x-python",
   "name": "python",
   "nbconvert_exporter": "python",
   "pygments_lexer": "ipython3",
   "version": "3.9.12"
  }
 },
 "nbformat": 4,
 "nbformat_minor": 0
}
